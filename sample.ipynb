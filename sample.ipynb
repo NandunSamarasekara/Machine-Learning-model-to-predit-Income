{
 "cells": [
  {
   "metadata": {
    "ExecuteTime": {
     "end_time": "2025-09-18T13:20:41.894445Z",
     "start_time": "2025-09-18T13:20:41.889144Z"
    }
   },
   "cell_type": "code",
   "source": [
    "#Import\n",
    "\n",
    "import pandas as pd\n",
    "import numpy as np\n",
    "import os\n",
    "\n",
    "raw_data_dir = r\"E:\\AIML_Project\\data\\raw\"\n",
    "processed_dir = r\"E:\\AIML_Project\\data\\processed\""
   ],
   "id": "dab0430dad3fa680",
   "outputs": [],
   "execution_count": 1
  },
  {
   "metadata": {
    "ExecuteTime": {
     "end_time": "2025-09-18T13:20:59.563415Z",
     "start_time": "2025-09-18T13:20:59.458252Z"
    }
   },
   "cell_type": "code",
   "source": [
    "#Loading the dataset\n",
    "\n",
    "df = pd.read_csv(\"E:/AIML_Project/data/raw/adult.data\", header=None)\n",
    "\n",
    "display(df.head())"
   ],
   "id": "f8052cf1c85af005",
   "outputs": [
    {
     "data": {
      "text/plain": [
       "   0                  1       2           3   4                    5   \\\n",
       "0  39          State-gov   77516   Bachelors  13        Never-married   \n",
       "1  50   Self-emp-not-inc   83311   Bachelors  13   Married-civ-spouse   \n",
       "2  38            Private  215646     HS-grad   9             Divorced   \n",
       "3  53            Private  234721        11th   7   Married-civ-spouse   \n",
       "4  28            Private  338409   Bachelors  13   Married-civ-spouse   \n",
       "\n",
       "                   6               7       8        9     10  11  12  \\\n",
       "0        Adm-clerical   Not-in-family   White     Male  2174   0  40   \n",
       "1     Exec-managerial         Husband   White     Male     0   0  13   \n",
       "2   Handlers-cleaners   Not-in-family   White     Male     0   0  40   \n",
       "3   Handlers-cleaners         Husband   Black     Male     0   0  40   \n",
       "4      Prof-specialty            Wife   Black   Female     0   0  40   \n",
       "\n",
       "               13      14  \n",
       "0   United-States   <=50K  \n",
       "1   United-States   <=50K  \n",
       "2   United-States   <=50K  \n",
       "3   United-States   <=50K  \n",
       "4            Cuba   <=50K  "
      ],
      "text/html": [
       "<div>\n",
       "<style scoped>\n",
       "    .dataframe tbody tr th:only-of-type {\n",
       "        vertical-align: middle;\n",
       "    }\n",
       "\n",
       "    .dataframe tbody tr th {\n",
       "        vertical-align: top;\n",
       "    }\n",
       "\n",
       "    .dataframe thead th {\n",
       "        text-align: right;\n",
       "    }\n",
       "</style>\n",
       "<table border=\"1\" class=\"dataframe\">\n",
       "  <thead>\n",
       "    <tr style=\"text-align: right;\">\n",
       "      <th></th>\n",
       "      <th>0</th>\n",
       "      <th>1</th>\n",
       "      <th>2</th>\n",
       "      <th>3</th>\n",
       "      <th>4</th>\n",
       "      <th>5</th>\n",
       "      <th>6</th>\n",
       "      <th>7</th>\n",
       "      <th>8</th>\n",
       "      <th>9</th>\n",
       "      <th>10</th>\n",
       "      <th>11</th>\n",
       "      <th>12</th>\n",
       "      <th>13</th>\n",
       "      <th>14</th>\n",
       "    </tr>\n",
       "  </thead>\n",
       "  <tbody>\n",
       "    <tr>\n",
       "      <th>0</th>\n",
       "      <td>39</td>\n",
       "      <td>State-gov</td>\n",
       "      <td>77516</td>\n",
       "      <td>Bachelors</td>\n",
       "      <td>13</td>\n",
       "      <td>Never-married</td>\n",
       "      <td>Adm-clerical</td>\n",
       "      <td>Not-in-family</td>\n",
       "      <td>White</td>\n",
       "      <td>Male</td>\n",
       "      <td>2174</td>\n",
       "      <td>0</td>\n",
       "      <td>40</td>\n",
       "      <td>United-States</td>\n",
       "      <td>&lt;=50K</td>\n",
       "    </tr>\n",
       "    <tr>\n",
       "      <th>1</th>\n",
       "      <td>50</td>\n",
       "      <td>Self-emp-not-inc</td>\n",
       "      <td>83311</td>\n",
       "      <td>Bachelors</td>\n",
       "      <td>13</td>\n",
       "      <td>Married-civ-spouse</td>\n",
       "      <td>Exec-managerial</td>\n",
       "      <td>Husband</td>\n",
       "      <td>White</td>\n",
       "      <td>Male</td>\n",
       "      <td>0</td>\n",
       "      <td>0</td>\n",
       "      <td>13</td>\n",
       "      <td>United-States</td>\n",
       "      <td>&lt;=50K</td>\n",
       "    </tr>\n",
       "    <tr>\n",
       "      <th>2</th>\n",
       "      <td>38</td>\n",
       "      <td>Private</td>\n",
       "      <td>215646</td>\n",
       "      <td>HS-grad</td>\n",
       "      <td>9</td>\n",
       "      <td>Divorced</td>\n",
       "      <td>Handlers-cleaners</td>\n",
       "      <td>Not-in-family</td>\n",
       "      <td>White</td>\n",
       "      <td>Male</td>\n",
       "      <td>0</td>\n",
       "      <td>0</td>\n",
       "      <td>40</td>\n",
       "      <td>United-States</td>\n",
       "      <td>&lt;=50K</td>\n",
       "    </tr>\n",
       "    <tr>\n",
       "      <th>3</th>\n",
       "      <td>53</td>\n",
       "      <td>Private</td>\n",
       "      <td>234721</td>\n",
       "      <td>11th</td>\n",
       "      <td>7</td>\n",
       "      <td>Married-civ-spouse</td>\n",
       "      <td>Handlers-cleaners</td>\n",
       "      <td>Husband</td>\n",
       "      <td>Black</td>\n",
       "      <td>Male</td>\n",
       "      <td>0</td>\n",
       "      <td>0</td>\n",
       "      <td>40</td>\n",
       "      <td>United-States</td>\n",
       "      <td>&lt;=50K</td>\n",
       "    </tr>\n",
       "    <tr>\n",
       "      <th>4</th>\n",
       "      <td>28</td>\n",
       "      <td>Private</td>\n",
       "      <td>338409</td>\n",
       "      <td>Bachelors</td>\n",
       "      <td>13</td>\n",
       "      <td>Married-civ-spouse</td>\n",
       "      <td>Prof-specialty</td>\n",
       "      <td>Wife</td>\n",
       "      <td>Black</td>\n",
       "      <td>Female</td>\n",
       "      <td>0</td>\n",
       "      <td>0</td>\n",
       "      <td>40</td>\n",
       "      <td>Cuba</td>\n",
       "      <td>&lt;=50K</td>\n",
       "    </tr>\n",
       "  </tbody>\n",
       "</table>\n",
       "</div>"
      ]
     },
     "metadata": {},
     "output_type": "display_data"
    }
   ],
   "execution_count": 2
  },
  {
   "metadata": {
    "ExecuteTime": {
     "end_time": "2025-09-18T13:21:01.840886Z",
     "start_time": "2025-09-18T13:21:01.832873Z"
    }
   },
   "cell_type": "code",
   "source": [
    "#Defining the column names\n",
    "\n",
    "columns = [\n",
    "    'age', 'workclass', 'fnlwgt', 'education', 'education_num',\n",
    "    'marital_status', 'occupation', 'relationship', 'race', 'sex',\n",
    "    'capital_gain', 'capital_loss', 'hours_per_week', 'native_country', 'income'\n",
    "]\n",
    "\n",
    "print(\"Column names defined: \", columns)\n",
    "print(f\"Total columns: {len(columns)}\")"
   ],
   "id": "8283175d6fc311ab",
   "outputs": [
    {
     "name": "stdout",
     "output_type": "stream",
     "text": [
      "Column names defined:  ['age', 'workclass', 'fnlwgt', 'education', 'education_num', 'marital_status', 'occupation', 'relationship', 'race', 'sex', 'capital_gain', 'capital_loss', 'hours_per_week', 'native_country', 'income']\n",
      "Total columns: 15\n"
     ]
    }
   ],
   "execution_count": 3
  },
  {
   "metadata": {
    "ExecuteTime": {
     "end_time": "2025-09-18T13:21:04.601290Z",
     "start_time": "2025-09-18T13:21:04.476994Z"
    }
   },
   "cell_type": "code",
   "source": [
    "#Path to train file\n",
    "train_path = os.path.join(raw_data_dir, 'adult.data')\n",
    "df_train = pd.read_csv(train_path, names=columns, header=None, skipinitialspace=True)\n",
    "\n",
    "#Dsiplaying basic info\n",
    "print(\"Training data shape:\", df_train.shape)\n",
    "print(\"\\nFirst 5 rows:\")\n",
    "print(df_train.head())\n",
    "print(\"\\nColumn names:\")\n",
    "print(df_train.columns.tolist())"
   ],
   "id": "8587fc30521f4118",
   "outputs": [
    {
     "name": "stdout",
     "output_type": "stream",
     "text": [
      "Training data shape: (32561, 15)\n",
      "\n",
      "First 5 rows:\n",
      "   age         workclass  fnlwgt  education  education_num  \\\n",
      "0   39         State-gov   77516  Bachelors             13   \n",
      "1   50  Self-emp-not-inc   83311  Bachelors             13   \n",
      "2   38           Private  215646    HS-grad              9   \n",
      "3   53           Private  234721       11th              7   \n",
      "4   28           Private  338409  Bachelors             13   \n",
      "\n",
      "       marital_status         occupation   relationship   race     sex  \\\n",
      "0       Never-married       Adm-clerical  Not-in-family  White    Male   \n",
      "1  Married-civ-spouse    Exec-managerial        Husband  White    Male   \n",
      "2            Divorced  Handlers-cleaners  Not-in-family  White    Male   \n",
      "3  Married-civ-spouse  Handlers-cleaners        Husband  Black    Male   \n",
      "4  Married-civ-spouse     Prof-specialty           Wife  Black  Female   \n",
      "\n",
      "   capital_gain  capital_loss  hours_per_week native_country income  \n",
      "0          2174             0              40  United-States  <=50K  \n",
      "1             0             0              13  United-States  <=50K  \n",
      "2             0             0              40  United-States  <=50K  \n",
      "3             0             0              40  United-States  <=50K  \n",
      "4             0             0              40           Cuba  <=50K  \n",
      "\n",
      "Column names:\n",
      "['age', 'workclass', 'fnlwgt', 'education', 'education_num', 'marital_status', 'occupation', 'relationship', 'race', 'sex', 'capital_gain', 'capital_loss', 'hours_per_week', 'native_country', 'income']\n"
     ]
    }
   ],
   "execution_count": 4
  },
  {
   "metadata": {
    "ExecuteTime": {
     "end_time": "2025-09-18T13:21:07.098398Z",
     "start_time": "2025-09-18T13:21:07.029104Z"
    }
   },
   "cell_type": "code",
   "source": [
    "# Path to test file\n",
    "test_path = os.path.join(raw_data_dir, 'adult.test')\n",
    "df_test = pd.read_csv(test_path, names=columns, header=None, skiprows=1, skipinitialspace=True)\n",
    "\n",
    "# The last column in test might have a trailing '.' — clean it\n",
    "df_test['income'] = df_test['income'].str.rstrip('.')\n",
    "\n",
    "# Display basic info\n",
    "print(\"Test data shape:\", df_test.shape)\n",
    "print(\"\\nFirst 5 rows:\")\n",
    "print(df_test.head())\n",
    "print(\"\\nColumn names:\")\n",
    "print(df_test.columns.tolist())"
   ],
   "id": "98e1d810cd494ace",
   "outputs": [
    {
     "name": "stdout",
     "output_type": "stream",
     "text": [
      "Test data shape: (16281, 15)\n",
      "\n",
      "First 5 rows:\n",
      "   age  workclass  fnlwgt     education  education_num      marital_status  \\\n",
      "0   25    Private  226802          11th              7       Never-married   \n",
      "1   38    Private   89814       HS-grad              9  Married-civ-spouse   \n",
      "2   28  Local-gov  336951    Assoc-acdm             12  Married-civ-spouse   \n",
      "3   44    Private  160323  Some-college             10  Married-civ-spouse   \n",
      "4   18          ?  103497  Some-college             10       Never-married   \n",
      "\n",
      "          occupation relationship   race     sex  capital_gain  capital_loss  \\\n",
      "0  Machine-op-inspct    Own-child  Black    Male             0             0   \n",
      "1    Farming-fishing      Husband  White    Male             0             0   \n",
      "2    Protective-serv      Husband  White    Male             0             0   \n",
      "3  Machine-op-inspct      Husband  Black    Male          7688             0   \n",
      "4                  ?    Own-child  White  Female             0             0   \n",
      "\n",
      "   hours_per_week native_country income  \n",
      "0              40  United-States  <=50K  \n",
      "1              50  United-States  <=50K  \n",
      "2              40  United-States   >50K  \n",
      "3              40  United-States   >50K  \n",
      "4              30  United-States  <=50K  \n",
      "\n",
      "Column names:\n",
      "['age', 'workclass', 'fnlwgt', 'education', 'education_num', 'marital_status', 'occupation', 'relationship', 'race', 'sex', 'capital_gain', 'capital_loss', 'hours_per_week', 'native_country', 'income']\n"
     ]
    }
   ],
   "execution_count": 5
  },
  {
   "metadata": {
    "ExecuteTime": {
     "end_time": "2025-09-18T13:21:09.495466Z",
     "start_time": "2025-09-18T13:21:09.099521Z"
    }
   },
   "cell_type": "code",
   "source": [
    "# Quick checks\n",
    "print(\"Train info:\")\n",
    "print(df_train.info())\n",
    "print(\"\\nTest info:\")\n",
    "print(df_test.info())\n",
    "\n",
    "# Check for any mismatches\n",
    "assert df_train.columns.equals(df_test.columns), \"Column names mismatch between train/test!\"\n",
    "print(\"\\nColumn names consistent across train/test.\")\n",
    "\n",
    "# Save preprocessed CSVs\n",
    "processed_dir = r\"E:\\AIML_Project\\data\\processed\"\n",
    "os.makedirs(processed_dir, exist_ok=True)\n",
    "df_train.to_csv(os.path.join(processed_dir, '(preprocessed_01)adult_train_named.csv'), index=False)\n",
    "df_test.to_csv(os.path.join(processed_dir, '(preprocessed_01)adult_test_named.csv'), index=False)\n",
    "print(\"Saved named datasets to processed directory.\")"
   ],
   "id": "217ddb732bdddc45",
   "outputs": [
    {
     "name": "stdout",
     "output_type": "stream",
     "text": [
      "Train info:\n",
      "<class 'pandas.core.frame.DataFrame'>\n",
      "RangeIndex: 32561 entries, 0 to 32560\n",
      "Data columns (total 15 columns):\n",
      " #   Column          Non-Null Count  Dtype \n",
      "---  ------          --------------  ----- \n",
      " 0   age             32561 non-null  int64 \n",
      " 1   workclass       32561 non-null  object\n",
      " 2   fnlwgt          32561 non-null  int64 \n",
      " 3   education       32561 non-null  object\n",
      " 4   education_num   32561 non-null  int64 \n",
      " 5   marital_status  32561 non-null  object\n",
      " 6   occupation      32561 non-null  object\n",
      " 7   relationship    32561 non-null  object\n",
      " 8   race            32561 non-null  object\n",
      " 9   sex             32561 non-null  object\n",
      " 10  capital_gain    32561 non-null  int64 \n",
      " 11  capital_loss    32561 non-null  int64 \n",
      " 12  hours_per_week  32561 non-null  int64 \n",
      " 13  native_country  32561 non-null  object\n",
      " 14  income          32561 non-null  object\n",
      "dtypes: int64(6), object(9)\n",
      "memory usage: 3.7+ MB\n",
      "None\n",
      "\n",
      "Test info:\n",
      "<class 'pandas.core.frame.DataFrame'>\n",
      "RangeIndex: 16281 entries, 0 to 16280\n",
      "Data columns (total 15 columns):\n",
      " #   Column          Non-Null Count  Dtype \n",
      "---  ------          --------------  ----- \n",
      " 0   age             16281 non-null  int64 \n",
      " 1   workclass       16281 non-null  object\n",
      " 2   fnlwgt          16281 non-null  int64 \n",
      " 3   education       16281 non-null  object\n",
      " 4   education_num   16281 non-null  int64 \n",
      " 5   marital_status  16281 non-null  object\n",
      " 6   occupation      16281 non-null  object\n",
      " 7   relationship    16281 non-null  object\n",
      " 8   race            16281 non-null  object\n",
      " 9   sex             16281 non-null  object\n",
      " 10  capital_gain    16281 non-null  int64 \n",
      " 11  capital_loss    16281 non-null  int64 \n",
      " 12  hours_per_week  16281 non-null  int64 \n",
      " 13  native_country  16281 non-null  object\n",
      " 14  income          16281 non-null  object\n",
      "dtypes: int64(6), object(9)\n",
      "memory usage: 1.9+ MB\n",
      "None\n",
      "\n",
      "Column names consistent across train/test.\n",
      "Saved named datasets to processed directory.\n"
     ]
    }
   ],
   "execution_count": 6
  },
  {
   "metadata": {
    "ExecuteTime": {
     "end_time": "2025-09-18T13:21:12.464824Z",
     "start_time": "2025-09-18T13:21:12.140775Z"
    }
   },
   "cell_type": "code",
   "source": [
    "#Dropping the 'fnlwgt' column\n",
    "\n",
    "print(\"Before dropping 'fnlwgt':\")\n",
    "print(\"Training data shape:\", df_train.shape)\n",
    "print(\"Test data shape:\", df_test.shape)\n",
    "\n",
    "df_train = df_train.drop(columns=['fnlwgt'])\n",
    "df_test = df_test.drop(columns=['fnlwgt'])\n",
    "\n",
    "print(\"After dropping 'fnlwgt':\")\n",
    "print(\"Training data shape:\", df_train.shape)\n",
    "print(\"Test data shape:\", df_test.shape)\n",
    "\n",
    "print(\"\\nTraining columns:\", df_train.columns.tolist())\n",
    "print(\"Test columns:\", df_test.columns.tolist())\n",
    "\n",
    "# Saving updated datasets\n",
    "df_train.to_csv(os.path.join(processed_dir, '(preprocessed_02)adult_train_no_fnlwgt.csv'), index=False)\n",
    "df_test.to_csv(os.path.join(processed_dir, '(preprocessed_02)adult_test_no_fnlwgt.csv'), index=False)"
   ],
   "id": "72ec114e8f55f11c",
   "outputs": [
    {
     "name": "stdout",
     "output_type": "stream",
     "text": [
      "Before dropping 'fnlwgt':\n",
      "Training data shape: (32561, 15)\n",
      "Test data shape: (16281, 15)\n",
      "After dropping 'fnlwgt':\n",
      "Training data shape: (32561, 14)\n",
      "Test data shape: (16281, 14)\n",
      "\n",
      "Training columns: ['age', 'workclass', 'education', 'education_num', 'marital_status', 'occupation', 'relationship', 'race', 'sex', 'capital_gain', 'capital_loss', 'hours_per_week', 'native_country', 'income']\n",
      "Test columns: ['age', 'workclass', 'education', 'education_num', 'marital_status', 'occupation', 'relationship', 'race', 'sex', 'capital_gain', 'capital_loss', 'hours_per_week', 'native_country', 'income']\n"
     ]
    }
   ],
   "execution_count": 7
  },
  {
   "metadata": {
    "ExecuteTime": {
     "end_time": "2025-09-18T13:21:15.602484Z",
     "start_time": "2025-09-18T13:21:15.131998Z"
    }
   },
   "cell_type": "code",
   "source": [
    "#Loading data from the adult_train_no_fnlwgt and adult_test_no_fnlwgt\n",
    "\n",
    "df_train = pd.read_csv(os.path.join(processed_dir, '(preprocessed_02)adult_train_no_fnlwgt.csv'))\n",
    "df_test = pd.read_csv(os.path.join(processed_dir, '(preprocessed_02)adult_test_no_fnlwgt.csv'))\n",
    "\n",
    "#Displaying shapes and null counts before cleaning\n",
    "print(\"Before dropping rows with nulls:\")\n",
    "print(\"Training data shape:\", df_train.shape)\n",
    "print(\"Test data shape:\", df_test.shape)\n",
    "print(\"\\nMissing value counts (train):\")\n",
    "print(df_train.isna().sum())\n",
    "print(\"\\nMissing value counts (test):\")\n",
    "print(df_test.isna().sum())\n",
    "\n",
    "#Replacing '?' with NaN in both datasets\n",
    "df_train = df_train.replace('?', np.nan)\n",
    "df_test = df_test.replace('?', np.nan)\n",
    "\n",
    "print(\"\\nAfter replacing '?' with NaN, missing value counts (train):\")\n",
    "print(df_train.isna().sum())\n",
    "print(\"\\nAfter replacing '?' with NaN, missing value counts (test):\")\n",
    "print(df_test.isna().sum())\n",
    "\n",
    "#Dropping rows with NaN values\n",
    "df_train = df_train.dropna()\n",
    "df_test = df_test.dropna()\n",
    "\n",
    "# Verifying shapes after dropping\n",
    "print(\"\\nAfter dropping rows with nulls:\")\n",
    "print(\"Training data shape:\", df_train.shape)\n",
    "print(\"Test data shape:\", df_test.shape)\n",
    "print(\"\\nRemaining missing values (train):\")\n",
    "print(df_train.isna().sum().sum())\n",
    "print(\"Remaining missing values (test):\")\n",
    "print(df_test.isna().sum().sum())\n",
    "\n",
    "# Saving cleaned datasets\n",
    "df_train.to_csv(os.path.join(processed_dir, '(preprocessed_03)adult_train_cleaned_dropped_na.csv'), index=False)\n",
    "df_test.to_csv(os.path.join(processed_dir, '(preprocessed_03)adult_test_cleaned_dropped_na.csv'), index=False)\n",
    "print(\"\\nSaved cleaned datasets to processed directory.\")"
   ],
   "id": "1f4e7cf34b0b9e68",
   "outputs": [
    {
     "name": "stdout",
     "output_type": "stream",
     "text": [
      "Before dropping rows with nulls:\n",
      "Training data shape: (32561, 14)\n",
      "Test data shape: (16281, 14)\n",
      "\n",
      "Missing value counts (train):\n",
      "age               0\n",
      "workclass         0\n",
      "education         0\n",
      "education_num     0\n",
      "marital_status    0\n",
      "occupation        0\n",
      "relationship      0\n",
      "race              0\n",
      "sex               0\n",
      "capital_gain      0\n",
      "capital_loss      0\n",
      "hours_per_week    0\n",
      "native_country    0\n",
      "income            0\n",
      "dtype: int64\n",
      "\n",
      "Missing value counts (test):\n",
      "age               0\n",
      "workclass         0\n",
      "education         0\n",
      "education_num     0\n",
      "marital_status    0\n",
      "occupation        0\n",
      "relationship      0\n",
      "race              0\n",
      "sex               0\n",
      "capital_gain      0\n",
      "capital_loss      0\n",
      "hours_per_week    0\n",
      "native_country    0\n",
      "income            0\n",
      "dtype: int64\n",
      "\n",
      "After replacing '?' with NaN, missing value counts (train):\n",
      "age                  0\n",
      "workclass         1836\n",
      "education            0\n",
      "education_num        0\n",
      "marital_status       0\n",
      "occupation        1843\n",
      "relationship         0\n",
      "race                 0\n",
      "sex                  0\n",
      "capital_gain         0\n",
      "capital_loss         0\n",
      "hours_per_week       0\n",
      "native_country     583\n",
      "income               0\n",
      "dtype: int64\n",
      "\n",
      "After replacing '?' with NaN, missing value counts (test):\n",
      "age                 0\n",
      "workclass         963\n",
      "education           0\n",
      "education_num       0\n",
      "marital_status      0\n",
      "occupation        966\n",
      "relationship        0\n",
      "race                0\n",
      "sex                 0\n",
      "capital_gain        0\n",
      "capital_loss        0\n",
      "hours_per_week      0\n",
      "native_country    274\n",
      "income              0\n",
      "dtype: int64\n",
      "\n",
      "After dropping rows with nulls:\n",
      "Training data shape: (30162, 14)\n",
      "Test data shape: (15060, 14)\n",
      "\n",
      "Remaining missing values (train):\n",
      "0\n",
      "Remaining missing values (test):\n",
      "0\n",
      "\n",
      "Saved cleaned datasets to processed directory.\n"
     ]
    }
   ],
   "execution_count": 8
  },
  {
   "metadata": {
    "ExecuteTime": {
     "end_time": "2025-09-18T13:21:20.200786Z",
     "start_time": "2025-09-18T13:21:20.186742Z"
    }
   },
   "cell_type": "code",
   "source": [
    "#Negative impact of \"capital gain\" and \"capital loss\" columns\n",
    "#Reason:\n",
    "# Calculate percentage of zeros\n",
    "print(\"Training set:\")\n",
    "print(\"Capital Gain Zeros:\", (df_train['capital_gain'] == 0).mean() * 100, \"%\")\n",
    "print(\"Capital Loss Zeros:\", (df_train['capital_loss'] == 0).mean() * 100, \"%\")\n",
    "print(\"\\nTest set:\")\n",
    "print(\"Capital Gain Zeros:\", (df_test['capital_gain'] == 0).mean() * 100, \"%\")\n",
    "print(\"Capital Loss Zeros:\", (df_test['capital_loss'] == 0).mean() * 100, \"%\")\n",
    "\n",
    "#In these two columns, there are percentages of 91.585% and 95.268% for capital gain and capital columns in the training set respectfully. And also 91.686% and 95.265% in test set respectfully. This affects the accuracy of the prediction that the trained model is going to make"
   ],
   "id": "6dea14334dd63bfc",
   "outputs": [
    {
     "name": "stdout",
     "output_type": "stream",
     "text": [
      "Training set:\n",
      "Capital Gain Zeros: 91.58543863139049 %\n",
      "Capital Loss Zeros: 95.2688813739142 %\n",
      "\n",
      "Test set:\n",
      "Capital Gain Zeros: 91.68658698539177 %\n",
      "Capital Loss Zeros: 95.26560424966799 %\n"
     ]
    }
   ],
   "execution_count": 9
  },
  {
   "metadata": {
    "ExecuteTime": {
     "end_time": "2025-09-18T13:21:22.378141Z",
     "start_time": "2025-09-18T13:21:22.015665Z"
    }
   },
   "cell_type": "code",
   "source": [
    "#Dropping \"capital gain\" and \"capital loss\" columns\n",
    "df_train = pd.read_csv(os.path.join(processed_dir, '(preprocessed_03)adult_train_cleaned_dropped_na.csv'))\n",
    "df_test = pd.read_csv(os.path.join(processed_dir, '(preprocessed_03)adult_test_cleaned_dropped_na.csv'))\n",
    "\n",
    "# Displaying shapes before dropping\n",
    "print(\"Before dropping 'capital_gain' and 'capital_loss':\")\n",
    "print(\"Training data shape:\", df_train.shape)\n",
    "print(\"Test data shape:\", df_test.shape)\n",
    "print(\"\\nTraining columns:\", df_train.columns.tolist())\n",
    "\n",
    "# Drop the 'capital_gain' and 'capital_loss' columns\n",
    "df_train = df_train.drop(columns=['capital_gain', 'capital_loss'])\n",
    "df_test = df_test.drop(columns=['capital_gain', 'capital_loss'])\n",
    "\n",
    "# Displaying shapes after dropping\n",
    "print(\"After dropping 'capital_gain' and 'capital_loss':\")\n",
    "print(\"Training data shape:\", df_train.shape)\n",
    "print(\"Test data shape:\", df_test.shape)\n",
    "print(\"\\nTraining columns:\", df_train.columns.tolist())\n",
    "\n",
    "# Confirm column consistency\n",
    "assert df_train.columns.equals(df_test.columns)\n",
    "\n",
    "# Save updated datasets\n",
    "df_train.to_csv(os.path.join(processed_dir, '(preprocessed_04)adult_train_no_capital.csv'), index=False)\n",
    "df_test.to_csv(os.path.join(processed_dir, '(preprocessed_04)adult_test_no_capital.csv'), index=False)\n",
    "print(\"\\nSaved datasets without 'capital_gain' and 'capital_loss' to processed directory.\")"
   ],
   "id": "fa8a0e7cf19ea533",
   "outputs": [
    {
     "name": "stdout",
     "output_type": "stream",
     "text": [
      "Before dropping 'capital_gain' and 'capital_loss':\n",
      "Training data shape: (30162, 14)\n",
      "Test data shape: (15060, 14)\n",
      "\n",
      "Training columns: ['age', 'workclass', 'education', 'education_num', 'marital_status', 'occupation', 'relationship', 'race', 'sex', 'capital_gain', 'capital_loss', 'hours_per_week', 'native_country', 'income']\n",
      "After dropping 'capital_gain' and 'capital_loss':\n",
      "Training data shape: (30162, 12)\n",
      "Test data shape: (15060, 12)\n",
      "\n",
      "Training columns: ['age', 'workclass', 'education', 'education_num', 'marital_status', 'occupation', 'relationship', 'race', 'sex', 'hours_per_week', 'native_country', 'income']\n",
      "\n",
      "Saved datasets without 'capital_gain' and 'capital_loss' to processed directory.\n"
     ]
    }
   ],
   "execution_count": 10
  },
  {
   "metadata": {
    "ExecuteTime": {
     "end_time": "2025-09-18T13:21:25.583166Z",
     "start_time": "2025-09-18T13:21:25.235441Z"
    }
   },
   "cell_type": "code",
   "source": [
    "#Dropping 'education' column: education_num is a label encoded column of education\n",
    "\n",
    "df_train = pd.read_csv(os.path.join(processed_dir, '(preprocessed_04)adult_train_no_capital.csv'))\n",
    "df_test = pd.read_csv(os.path.join(processed_dir, '(preprocessed_04)adult_test_no_capital.csv'))\n",
    "\n",
    "#Displaying shapes and columns before dropping\n",
    "print(\"Before dropping 'education':\")\n",
    "print(\"Training data shape:\", df_train.shape)\n",
    "print(\"Test data shape:\", df_test.shape)\n",
    "print(\"\\nTraining columns:\", df_train.columns.tolist())\n",
    "\n",
    "#Dropping the 'education' column\n",
    "df_train = df_train.drop(columns=['education'])\n",
    "df_test = df_test.drop(columns=['education'])\n",
    "\n",
    "#Displaying shapes and columns after dropping\n",
    "print(\"After dropping 'education':\")\n",
    "print(\"Training data shape:\", df_train.shape)\n",
    "print(\"Test data shape:\", df_test.shape)\n",
    "print(\"\\nTraining columns:\", df_train.columns.tolist())\n",
    "\n",
    "#Confirming column consistency\n",
    "assert df_train.columns.equals(df_test.columns), \"Column names mismatch between train/test!\"\n",
    "\n",
    "#Saving updated datasets\n",
    "df_train.to_csv(os.path.join(processed_dir, '(preprocessed_05)adult_train_no_education.csv'), index=False)\n",
    "df_test.to_csv(os.path.join(processed_dir, '(preprocessed_05)adult_test_no_education.csv'), index=False)\n",
    "print(\"\\nSaved datasets without 'education' to processed directory.\")"
   ],
   "id": "ec5c0c22e3bbf5e9",
   "outputs": [
    {
     "name": "stdout",
     "output_type": "stream",
     "text": [
      "Before dropping 'education':\n",
      "Training data shape: (30162, 12)\n",
      "Test data shape: (15060, 12)\n",
      "\n",
      "Training columns: ['age', 'workclass', 'education', 'education_num', 'marital_status', 'occupation', 'relationship', 'race', 'sex', 'hours_per_week', 'native_country', 'income']\n",
      "After dropping 'education':\n",
      "Training data shape: (30162, 11)\n",
      "Test data shape: (15060, 11)\n",
      "\n",
      "Training columns: ['age', 'workclass', 'education_num', 'marital_status', 'occupation', 'relationship', 'race', 'sex', 'hours_per_week', 'native_country', 'income']\n",
      "\n",
      "Saved datasets without 'education' to processed directory.\n"
     ]
    }
   ],
   "execution_count": 11
  },
  {
   "metadata": {
    "ExecuteTime": {
     "end_time": "2025-09-18T13:21:28.982539Z",
     "start_time": "2025-09-18T13:21:28.733412Z"
    }
   },
   "cell_type": "code",
   "source": [
    "#Maintaining the 50-50 balance between <50k and >=50k\n",
    "df_train = pd.read_csv(os.path.join(processed_dir, '(preprocessed_05)adult_train_no_education.csv'))\n",
    "df_test = pd.read_csv(os.path.join(processed_dir, '(preprocessed_05)adult_test_no_education.csv'))\n",
    "\n",
    "# Display initial class distribution\n",
    "print(\"Before balancing:\")\n",
    "print(\"Training set class distribution:\\n\", df_train['income'].value_counts())\n",
    "print(\"\\nTest set class distribution:\\n\", df_test['income'].value_counts())\n",
    "\n",
    "# Separate classes for training set\n",
    "train_leq50k = df_train[df_train['income'] == '<=50K']\n",
    "train_gt50k = df_train[df_train['income'] == '>50K']\n",
    "\n",
    "# Get the number of >50K instances (minority class)\n",
    "n_gt50k_train = len(train_gt50k)\n",
    "\n",
    "# Randomly sample <=50K to match >50K count\n",
    "train_leq50k_balanced = train_leq50k.sample(n=n_gt50k_train, random_state=42)\n",
    "\n",
    "# Combine balanced classes\n",
    "df_train_balanced = pd.concat([train_leq50k_balanced, train_gt50k], axis=0).sample(frac=1, random_state=42)\n",
    "\n",
    "# Repeat for test set\n",
    "test_leq50k = df_test[df_test['income'] == '<=50K']\n",
    "test_gt50k = df_test[df_test['income'] == '>50K']\n",
    "n_gt50k_test = len(test_gt50k)\n",
    "test_leq50k_balanced = test_leq50k.sample(n=n_gt50k_test, random_state=42)\n",
    "df_test_balanced = pd.concat([test_leq50k_balanced, test_gt50k], axis=0).sample(frac=1, random_state=42)\n",
    "\n",
    "# Verify shapes and class distribution\n",
    "print(\"\\nAfter balancing:\")\n",
    "print(\"Training set shape:\", df_train_balanced.shape)\n",
    "print(\"Training set class distribution:\\n\", df_train_balanced['income'].value_counts())\n",
    "print(\"\\nTest set shape:\", df_test_balanced.shape)\n",
    "print(\"Test set class distribution:\\n\", df_test_balanced['income'].value_counts())\n",
    "\n",
    "# Confirm column consistency\n",
    "assert df_train_balanced.columns.equals(df_test_balanced.columns), \"Column names mismatch between train/test!\"\n",
    "\n",
    "# Save balanced datasets\n",
    "df_train_balanced.to_csv(os.path.join(processed_dir, '(preprocessed_06)adult_train_balanced.csv'), index=False)\n",
    "df_test_balanced.to_csv(os.path.join(processed_dir, '(preprocessed_06)adult_test_balanced.csv'), index=False)\n",
    "print(\"\\nSaved balanced datasets to processed directory.\")"
   ],
   "id": "60e3b459422c014a",
   "outputs": [
    {
     "name": "stdout",
     "output_type": "stream",
     "text": [
      "Before balancing:\n",
      "Training set class distribution:\n",
      " income\n",
      "<=50K    22654\n",
      ">50K      7508\n",
      "Name: count, dtype: int64\n",
      "\n",
      "Test set class distribution:\n",
      " income\n",
      "<=50K    11360\n",
      ">50K      3700\n",
      "Name: count, dtype: int64\n",
      "\n",
      "After balancing:\n",
      "Training set shape: (15016, 11)\n",
      "Training set class distribution:\n",
      " income\n",
      ">50K     7508\n",
      "<=50K    7508\n",
      "Name: count, dtype: int64\n",
      "\n",
      "Test set shape: (7400, 11)\n",
      "Test set class distribution:\n",
      " income\n",
      ">50K     3700\n",
      "<=50K    3700\n",
      "Name: count, dtype: int64\n",
      "\n",
      "Saved balanced datasets to processed directory.\n"
     ]
    }
   ],
   "execution_count": 12
  },
  {
   "metadata": {},
   "cell_type": "markdown",
   "source": "Encoding ",
   "id": "5c5e8224fafd2b2e"
  },
  {
   "metadata": {
    "ExecuteTime": {
     "end_time": "2025-09-18T13:21:33.529972Z",
     "start_time": "2025-09-18T13:21:33.339699Z"
    }
   },
   "cell_type": "code",
   "source": [
    "#Binary Encoding\n",
    "\n",
    "#Loading the datasets\n",
    "df_train = pd.read_csv(os.path.join(processed_dir, '(preprocessed_06)adult_train_balanced.csv'))\n",
    "df_test = pd.read_csv(os.path.join(processed_dir, '(preprocessed_06)adult_test_balanced.csv'))\n",
    "\n",
    "#Displaying initial income distribution\n",
    "print(\"Before binary encoding:\")\n",
    "print(\"Training set income distribution:\\n\", df_train['income'].value_counts())\n",
    "print(\"\\nTest set income distribution:\\n\", df_test['income'].value_counts())\n",
    "\n",
    "# Binary encode the income column ('<=50K' -> 0, '>50K' -> 1)\n",
    "df_train['income'] = df_train['income'].map({'<=50K': 0, '>50K': 1})\n",
    "df_test['income'] = df_test['income'].map({'<=50K': 0, '>50K': 1})\n",
    "\n",
    "# Verify encoding and class balance\n",
    "print(\"\\nAfter binary encoding:\")\n",
    "print(\"Training set income distribution:\\n\", df_train['income'].value_counts())\n",
    "print(\"\\nTest set income distribution:\\n\", df_test['income'].value_counts())\n",
    "print(\"\\nTraining dtypes:\\n\", df_train.dtypes)\n",
    "\n",
    "# Save datasets with encoded income\n",
    "df_train.to_csv(os.path.join(processed_dir, '(preprocessed_07)adult_train_income_encoded.csv'), index=False)\n",
    "df_test.to_csv(os.path.join(processed_dir, '(preprocessed_07)adult_test_income_encoded.csv'), index=False)\n",
    "print(\"\\nSaved datasets with encoded income to processed directory.\")"
   ],
   "id": "a7082ce4de88a11e",
   "outputs": [
    {
     "name": "stdout",
     "output_type": "stream",
     "text": [
      "Before binary encoding:\n",
      "Training set income distribution:\n",
      " income\n",
      ">50K     7508\n",
      "<=50K    7508\n",
      "Name: count, dtype: int64\n",
      "\n",
      "Test set income distribution:\n",
      " income\n",
      ">50K     3700\n",
      "<=50K    3700\n",
      "Name: count, dtype: int64\n",
      "\n",
      "After binary encoding:\n",
      "Training set income distribution:\n",
      " income\n",
      "1    7508\n",
      "0    7508\n",
      "Name: count, dtype: int64\n",
      "\n",
      "Test set income distribution:\n",
      " income\n",
      "1    3700\n",
      "0    3700\n",
      "Name: count, dtype: int64\n",
      "\n",
      "Training dtypes:\n",
      " age                int64\n",
      "workclass         object\n",
      "education_num      int64\n",
      "marital_status    object\n",
      "occupation        object\n",
      "relationship      object\n",
      "race              object\n",
      "sex               object\n",
      "hours_per_week     int64\n",
      "native_country    object\n",
      "income             int64\n",
      "dtype: object\n",
      "\n",
      "Saved datasets with encoded income to processed directory.\n"
     ]
    }
   ],
   "execution_count": 13
  },
  {
   "metadata": {
    "ExecuteTime": {
     "end_time": "2025-09-18T13:21:36.867870Z",
     "start_time": "2025-09-18T13:21:35.880473Z"
    }
   },
   "cell_type": "code",
   "source": [
    "import seaborn as sns\n",
    "import matplotlib.pyplot as plt\n",
    "\n",
    "# Load the encoded training dataset\n",
    "df_train_encoded = pd.read_csv(os.path.join(processed_dir, '(preprocessed_07)adult_train_income_encoded.csv'))\n",
    "\n",
    "# Define numerical columns to include\n",
    "numerical_cols = ['age', 'education_num', 'hours_per_week', 'income']\n",
    "\n",
    "# Verify columns exist and select data\n",
    "missing_cols = [col for col in numerical_cols if col not in df_train_encoded.columns]\n",
    "if missing_cols:\n",
    "    print(f\"Warning: Missing columns in dataset: {missing_cols}\")\n",
    "else:\n",
    "    print(\"All numerical columns found in dataset.\")\n",
    "\n",
    "df_numerical = df_train_encoded[numerical_cols]\n",
    "\n",
    "# Check for NaN values or zero variance\n",
    "print(\"\\nNaN counts per column:\")\n",
    "print(df_numerical.isna().sum())\n",
    "print(\"\\nVariance per column:\")\n",
    "print(df_numerical.var())\n",
    "\n",
    "# Compute correlation matrix\n",
    "corr_matrix = df_numerical.corr()\n",
    "\n",
    "# Verify matrix shape\n",
    "print(\"\\nCorrelation matrix shape:\", corr_matrix.shape)\n",
    "\n",
    "# Create heatmap with explicit axis limits\n",
    "plt.figure(figsize=(8, 6))\n",
    "sns.heatmap(corr_matrix, annot=True, cmap='coolwarm', vmin=-1, vmax=1, center=0, xticklabels=True, yticklabels=True)\n",
    "plt.title('Correlation Heatmap: Numerical Features and Income')\n",
    "plt.tight_layout()\n",
    "\n",
    "# Save the heatmap\n",
    "heatmap_path = os.path.join(processed_dir, 'heatmap_numerical.png')\n",
    "plt.savefig(heatmap_path)\n",
    "plt.show()\n",
    "print(f\" Heatmap for numerical features saved to {heatmap_path}.\")"
   ],
   "id": "bd14a47fc5d05c1d",
   "outputs": [
    {
     "name": "stdout",
     "output_type": "stream",
     "text": [
      "All numerical columns found in dataset.\n",
      "\n",
      "NaN counts per column:\n",
      "age               0\n",
      "education_num     0\n",
      "hours_per_week    0\n",
      "income            0\n",
      "dtype: int64\n",
      "\n",
      "Variance per column:\n",
      "age               155.672736\n",
      "education_num       6.742771\n",
      "hours_per_week    140.741261\n",
      "income              0.250017\n",
      "dtype: float64\n",
      "\n",
      "Correlation matrix shape: (4, 4)\n"
     ]
    },
    {
     "data": {
      "text/plain": [
       "<Figure size 800x600 with 2 Axes>"
      ],
      "image/png": "[encoded data removed]"
     },
     "metadata": {},
     "output_type": "display_data"
    },
    {
     "name": "stdout",
     "output_type": "stream",
     "text": [
      " Heatmap for numerical features saved to E:\\AIML_Project\\data\\processed\\heatmap_numerical.png.\n"
     ]
    }
   ],
   "execution_count": 14
  },
  {
   "metadata": {
    "ExecuteTime": {
     "end_time": "2025-09-18T13:21:41.134820Z",
     "start_time": "2025-09-18T13:21:40.567771Z"
    }
   },
   "cell_type": "code",
   "source": [
    "#One hot Encoding\n",
    "\n",
    "#All the nominal column are selected to do one-hot-encoding\n",
    "\n",
    "# Load the datasets with encoded income\n",
    "df_train = pd.read_csv(os.path.join(processed_dir, '(preprocessed_07)adult_train_income_encoded.csv'))\n",
    "df_test = pd.read_csv(os.path.join(processed_dir, '(preprocessed_07)adult_test_income_encoded.csv'))\n",
    "\n",
    "# Display initial shapes and dtypes\n",
    "print(\"Before one-hot encoding:\")\n",
    "print(\"Training set shape:\", df_train.shape)\n",
    "print(\"Test set shape:\", df_test.shape)\n",
    "print(\"\\nTraining dtypes:\\n\", df_train.dtypes)\n",
    "\n",
    "# Define categorical columns to one-hot encode\n",
    "categorical_cols = ['workclass', 'marital_status', 'occupation', 'relationship', 'race', 'sex', 'native_country']\n",
    "\n",
    "# Apply one-hot encoding to categorical columns\n",
    "df_train_encoded = pd.get_dummies(df_train, columns=categorical_cols, drop_first=True)\n",
    "df_test_encoded = pd.get_dummies(df_test, columns=categorical_cols, drop_first=True)\n",
    "\n",
    "# Convert boolean values to integers (True -> 1, False -> 0)\n",
    "for column in df_train_encoded.columns:\n",
    "    if df_train_encoded[column].dtype == 'bool':\n",
    "        df_train_encoded[column] = df_train_encoded[column].astype(int)\n",
    "for column in df_test_encoded.columns:\n",
    "    if df_test_encoded[column].dtype == 'bool':\n",
    "        df_test_encoded[column] = df_test_encoded[column].astype(int)\n",
    "\n",
    "# Align test set columns to train set, filling missing with 0\n",
    "train_columns = df_train_encoded.columns\n",
    "df_test_encoded = df_test_encoded.reindex(columns=train_columns, fill_value=0)\n",
    "\n",
    "# Verify shapes and dtypes after encoding\n",
    "print(\"\\nAfter one-hot encoding:\")\n",
    "print(\"Training set shape:\", df_train_encoded.shape)\n",
    "print(\"Test set shape:\", df_test_encoded.shape)\n",
    "print(\"\\nTraining dtypes:\\n\", df_train_encoded.dtypes)\n",
    "\n",
    "# Check for non-numeric columns\n",
    "non_numeric_cols = df_train_encoded.select_dtypes(include=['object']).columns\n",
    "if len(non_numeric_cols) > 0:\n",
    "    print(\"\\nWarning: Non-numeric columns remain in training set:\", non_numeric_cols.tolist())\n",
    "else:\n",
    "    print(\"\\nAll columns in training set are numeric.\")\n",
    "\n",
    "# Confirm class balance\n",
    "print(\"\\nTraining set income distribution:\\n\", df_train_encoded['income'].value_counts())\n",
    "print(\"Test set income distribution:\\n\", df_test_encoded['income'].value_counts())\n",
    "\n",
    "# Save fully encoded datasets\n",
    "df_train_encoded.to_csv(os.path.join(processed_dir, '(preprocessed_08)adult_train_encoded.csv'), index=False)\n",
    "df_test_encoded.to_csv(os.path.join(processed_dir, '(preprocessed_08)adult_test_encoded.csv'), index=False)\n",
    "print(\"\\nSaved fully encoded datasets to processed directory.\")"
   ],
   "id": "be1d2c909b0eb80e",
   "outputs": [
    {
     "name": "stdout",
     "output_type": "stream",
     "text": [
      "Before one-hot encoding:\n",
      "Training set shape: (15016, 11)\n",
      "Test set shape: (7400, 11)\n",
      "\n",
      "Training dtypes:\n",
      " age                int64\n",
      "workclass         object\n",
      "education_num      int64\n",
      "marital_status    object\n",
      "occupation        object\n",
      "relationship      object\n",
      "race              object\n",
      "sex               object\n",
      "hours_per_week     int64\n",
      "native_country    object\n",
      "income             int64\n",
      "dtype: object\n",
      "\n",
      "After one-hot encoding:\n",
      "Training set shape: (15016, 79)\n",
      "Test set shape: (7400, 79)\n",
      "\n",
      "Training dtypes:\n",
      " age                               int64\n",
      "education_num                     int64\n",
      "hours_per_week                    int64\n",
      "income                            int64\n",
      "workclass_Local-gov               int64\n",
      "                                  ...  \n",
      "native_country_Thailand           int64\n",
      "native_country_Trinadad&Tobago    int64\n",
      "native_country_United-States      int64\n",
      "native_country_Vietnam            int64\n",
      "native_country_Yugoslavia         int64\n",
      "Length: 79, dtype: object\n",
      "\n",
      "All columns in training set are numeric.\n",
      "\n",
      "Training set income distribution:\n",
      " income\n",
      "1    7508\n",
      "0    7508\n",
      "Name: count, dtype: int64\n",
      "Test set income distribution:\n",
      " income\n",
      "1    3700\n",
      "0    3700\n",
      "Name: count, dtype: int64\n",
      "\n",
      "Saved fully encoded datasets to processed directory.\n"
     ]
    }
   ],
   "execution_count": 15
  },
  {
   "metadata": {
    "ExecuteTime": {
     "end_time": "2025-09-18T13:21:59.558390Z",
     "start_time": "2025-09-18T13:21:53.573792Z"
    }
   },
   "cell_type": "code",
   "source": [
    "from sklearn.model_selection import train_test_split\n",
    "\n",
    "# Load the encoded datasets\n",
    "df_train_encoded = pd.read_csv(os.path.join(processed_dir, '(preprocessed_08)adult_train_encoded.csv'))\n",
    "df_test_encoded = pd.read_csv(os.path.join(processed_dir, '(preprocessed_08)adult_test_encoded.csv'))\n",
    "\n",
    "# Combine the datasets\n",
    "combined_df = pd.concat([df_train_encoded, df_test_encoded], axis=0, ignore_index=True)\n",
    "\n",
    "# Display combined dataset info\n",
    "print(\"Combined dataset shape:\", combined_df.shape)\n",
    "print(\"\\nCombined dataset income distribution:\\n\", combined_df['income'].value_counts())\n",
    "\n",
    "# Split into 80% train and 20% test with stratification\n",
    "train_df, test_df = train_test_split(combined_df, test_size=0.2, random_state=42, stratify=combined_df['income'])\n",
    "\n",
    "# Verify split shapes and class distribution\n",
    "print(\"\\nAfter 80-20 split:\")\n",
    "print(\"Training set shape:\", train_df.shape)\n",
    "print(\"Test set shape:\", test_df.shape)\n",
    "print(\"\\nTraining set income distribution:\\n\", train_df['income'].value_counts())\n",
    "print(\"\\nTest set income distribution:\\n\", test_df['income'].value_counts())\n",
    "\n",
    "# Save the new datasets\n",
    "train_df.to_csv(os.path.join(processed_dir, '(preprocessed_09)adult_train_80_20.csv'), index=False)\n",
    "test_df.to_csv(os.path.join(processed_dir, '(preprocessed_09)adult_test_80_20.csv'), index=False)\n",
    "print(\"\\nSaved new training and testing datasets to processed directory.\")"
   ],
   "id": "1311c4f70b9de91f",
   "outputs": [
    {
     "name": "stdout",
     "output_type": "stream",
     "text": [
      "Combined dataset shape: (22416, 79)\n",
      "\n",
      "Combined dataset income distribution:\n",
      " income\n",
      "1    11208\n",
      "0    11208\n",
      "Name: count, dtype: int64\n",
      "\n",
      "After 80-20 split:\n",
      "Training set shape: (17932, 79)\n",
      "Test set shape: (4484, 79)\n",
      "\n",
      "Training set income distribution:\n",
      " income\n",
      "1    8966\n",
      "0    8966\n",
      "Name: count, dtype: int64\n",
      "\n",
      "Test set income distribution:\n",
      " income\n",
      "1    2242\n",
      "0    2242\n",
      "Name: count, dtype: int64\n",
      "\n",
      "Saved new training and testing datasets to processed directory.\n"
     ]
    }
   ],
   "execution_count": 16
  },
  {
   "metadata": {},
   "cell_type": "markdown",
   "source": "Scaling",
   "id": "2d38ef1ec571f8ad"
  },
  {
   "metadata": {
    "ExecuteTime": {
     "end_time": "2025-09-18T13:22:03.771831Z",
     "start_time": "2025-09-18T13:22:03.126295Z"
    }
   },
   "cell_type": "code",
   "source": [
    "import seaborn as sns\n",
    "import matplotlib.pyplot as plt\n",
    "\n",
    "# Load the training dataset\n",
    "df_train = pd.read_csv(os.path.join(processed_dir, '(preprocessed_09)adult_train_80_20.csv'))\n",
    "\n",
    "# Create density plot for age\n",
    "plt.figure(figsize=(8, 6))\n",
    "sns.kdeplot(data=df_train, x='age', fill=True)\n",
    "plt.title('Density Plot of Age')\n",
    "plt.xlabel('Age')\n",
    "plt.ylabel('Density')\n",
    "plt.tight_layout()\n",
    "\n",
    "# Save the plot\n",
    "plt.savefig(os.path.join(processed_dir, 'age_density.png'))\n",
    "plt.show()\n",
    "print(\"Age density plot saved to processed directory.\")"
   ],
   "id": "5b08ff4c3075b7d6",
   "outputs": [
    {
     "data": {
      "text/plain": [
       "<Figure size 800x600 with 1 Axes>"
      ],
      "image/png": "[encoded data removed]"
     },
     "metadata": {},
     "output_type": "display_data"
    },
    {
     "name": "stdout",
     "output_type": "stream",
     "text": [
      "Age density plot saved to processed directory.\n"
     ]
    }
   ],
   "execution_count": 17
  },
  {
   "metadata": {
    "ExecuteTime": {
     "end_time": "2025-09-18T13:22:07.076174Z",
     "start_time": "2025-09-18T13:22:06.557339Z"
    }
   },
   "cell_type": "code",
   "source": [
    "import seaborn as sns\n",
    "import matplotlib.pyplot as plt\n",
    "\n",
    "# Load the training dataset\n",
    "df_train = pd.read_csv(os.path.join(processed_dir, '(preprocessed_09)adult_train_80_20.csv'))\n",
    "\n",
    "# Create bar plot for education_num\n",
    "plt.figure(figsize=(10, 6))\n",
    "sns.countplot(data=df_train, x='education_num')\n",
    "plt.title('Bar Plot of Education Num')\n",
    "plt.xlabel('Education Num')\n",
    "plt.ylabel('Count')\n",
    "plt.tight_layout()\n",
    "\n",
    "# Save the plot\n",
    "plt.savefig(os.path.join(processed_dir, 'education_num_bar.png'))\n",
    "plt.show()\n",
    "print(\"Education num bar plot saved to processed directory.\")"
   ],
   "id": "4548489ec78b203b",
   "outputs": [
    {
     "data": {
      "text/plain": [
       "<Figure size 1000x600 with 1 Axes>"
      ],
      "image/png": "[encoded data removed]"
     },
     "metadata": {},
     "output_type": "display_data"
    },
    {
     "name": "stdout",
     "output_type": "stream",
     "text": [
      "Education num bar plot saved to processed directory.\n"
     ]
    }
   ],
   "execution_count": 18
  },
  {
   "metadata": {
    "ExecuteTime": {
     "end_time": "2025-09-18T13:22:11.724786Z",
     "start_time": "2025-09-18T13:22:10.969168Z"
    }
   },
   "cell_type": "code",
   "source": [
    "import seaborn as sns\n",
    "import matplotlib.pyplot as plt\n",
    "\n",
    "# Load the training dataset\n",
    "df_train = pd.read_csv(os.path.join(processed_dir, '(preprocessed_09)adult_train_80_20.csv'))\n",
    "\n",
    "# Create histogram for hours_per_week\n",
    "plt.figure(figsize=(8, 6))\n",
    "sns.histplot(data=df_train, x='hours_per_week', bins=20, kde=True)\n",
    "plt.title('Histogram of Hours per Week')\n",
    "plt.xlabel('Hours per Week')\n",
    "plt.ylabel('Count')\n",
    "plt.tight_layout()\n",
    "\n",
    "# Save the plot\n",
    "plt.savefig(os.path.join(processed_dir, 'hours_per_week_hist.png'))\n",
    "plt.show()\n",
    "print(\"Hours per week histogram saved to processed directory.\")"
   ],
   "id": "1e4388f5b098f1c9",
   "outputs": [
    {
     "data": {
      "text/plain": [
       "<Figure size 800x600 with 1 Axes>"
      ],
      "image/png": "[encoded data removed]"
     },
     "metadata": {},
     "output_type": "display_data"
    },
    {
     "name": "stdout",
     "output_type": "stream",
     "text": [
      "Hours per week histogram saved to processed directory.\n"
     ]
    }
   ],
   "execution_count": 19
  },
  {
   "metadata": {
    "ExecuteTime": {
     "end_time": "2025-09-18T13:22:14.241581Z",
     "start_time": "2025-09-18T13:22:14.238075Z"
    }
   },
   "cell_type": "code",
   "source": [
    "#From the generated charts\n",
    "#Age - Standard Scaler(Z-score scaler) = shows a near-normal curve, supporting StandardScaler\n",
    "#education_num - MinMaxScaler = bounded skew justifies MinMaxScaler\n",
    "#hours_per_week - RobustScaler = right skew and outliers validate RobustScaler"
   ],
   "id": "bbd775f4bbb7782b",
   "outputs": [],
   "execution_count": 20
  },
  {
   "metadata": {
    "ExecuteTime": {
     "end_time": "2025-09-18T13:22:17.141704Z",
     "start_time": "2025-09-18T13:22:16.498888Z"
    }
   },
   "cell_type": "code",
   "source": [
    "from sklearn.preprocessing import StandardScaler, MinMaxScaler, RobustScaler\n",
    "\n",
    "# Load the datasets\n",
    "train_df = pd.read_csv(os.path.join(processed_dir, '(preprocessed_09)adult_train_80_20.csv'))\n",
    "test_df = pd.read_csv(os.path.join(processed_dir, '(preprocessed_09)adult_test_80_20.csv'))\n",
    "\n",
    "# Initialize scalers\n",
    "scaler_age = StandardScaler()\n",
    "scaler_edu = MinMaxScaler()\n",
    "scaler_hours = RobustScaler()\n",
    "\n",
    "# Define columns to scale\n",
    "columns_to_scale = {'age': scaler_age, 'education_num': scaler_edu, 'hours_per_week': scaler_hours}\n",
    "\n",
    "# Fit scalers on training data and transform both train and test\n",
    "for column, scaler in columns_to_scale.items():\n",
    "    # Fit on train data only\n",
    "    scaler.fit(train_df[[column]])\n",
    "    # Transform both train and test\n",
    "    train_df[column] = scaler.transform(train_df[[column]])\n",
    "    test_df[column] = scaler.transform(test_df[[column]])\n",
    "\n",
    "# Verify shapes and dtypes\n",
    "print(\"Training set shape:\", train_df.shape)\n",
    "print(\"Test set shape:\", test_df.shape)\n",
    "print(\"\\nTraining set dtypes:\\n\", train_df.dtypes)\n",
    "\n",
    "# Display sample scaled values for verification\n",
    "print(\"\\nSample scaled values (first 5 rows):\")\n",
    "print(train_df[['age', 'education_num', 'hours_per_week']].head())\n",
    "\n",
    "# Save the scaled datasets\n",
    "train_df.to_csv(os.path.join(processed_dir, '(preprocessed_10)adult_train_scaled.csv'), index=False)\n",
    "test_df.to_csv(os.path.join(processed_dir, '(preprocessed_10)adult_test_scaled.csv'), index=False)\n",
    "print(\"\\nSaved scaled datasets to processed directory.\")"
   ],
   "id": "34f070af6049e818",
   "outputs": [
    {
     "name": "stdout",
     "output_type": "stream",
     "text": [
      "Training set shape: (17932, 79)\n",
      "Test set shape: (4484, 79)\n",
      "\n",
      "Training set dtypes:\n",
      " age                               float64\n",
      "education_num                     float64\n",
      "hours_per_week                    float64\n",
      "income                              int64\n",
      "workclass_Local-gov                 int64\n",
      "                                   ...   \n",
      "native_country_Thailand             int64\n",
      "native_country_Trinadad&Tobago      int64\n",
      "native_country_United-States        int64\n",
      "native_country_Vietnam              int64\n",
      "native_country_Yugoslavia           int64\n",
      "Length: 79, dtype: object\n",
      "\n",
      "Sample scaled values (first 5 rows):\n",
      "        age  education_num  hours_per_week\n",
      "0 -0.508273            0.6             4.4\n",
      "1  0.365000            0.6            -0.5\n",
      "2 -0.111331            0.6             1.5\n",
      "3 -1.619712            0.6            -0.5\n",
      "4 -0.111331            0.8             2.0\n",
      "\n",
      "Saved scaled datasets to processed directory.\n"
     ]
    }
   ],
   "execution_count": 21
  }
 ],
 "metadata": {
  "kernelspec": {
   "display_name": "Python 3",
   "language": "python",
   "name": "python3"
  },
  "language_info": {
   "codemirror_mode": {
    "name": "ipython",
    "version": 2
   },
   "file_extension": ".py",
   "mimetype": "text/x-python",
   "name": "python",
   "nbconvert_exporter": "python",
   "pygments_lexer": "ipython2",
   "version": "2.7.6"
  }
 },
 "nbformat": 4,
 "nbformat_minor": 5
}
